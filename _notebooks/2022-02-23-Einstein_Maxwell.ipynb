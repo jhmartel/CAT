{
  "nbformat": 4,
  "nbformat_minor": 0,
  "metadata": {
    "colab": {
      "name": "Einstein_Maxwell.ipynb",
      "provenance": [],
      "collapsed_sections": [],
      "authorship_tag": "ABX9TyPf7LpcqLo0RNylyPUeg/GL",
      "include_colab_link": true
    },
    "kernelspec": {
      "name": "python3",
      "display_name": "Python 3"
    },
    "language_info": {
      "name": "python"
    }
  },
  "cells": [
    {
      "cell_type": "markdown",
      "metadata": {
        "id": "view-in-github",
        "colab_type": "text"
      },
      "source": [
        "<a href=\"https://colab.research.google.com/github/jhmartel/Alexandrov/blob/main/_notebooks/2022-02-23-Einstein_Maxwell.ipynb\" target=\"_parent\"><img src=\"https://colab.research.google.com/assets/colab-badge.svg\" alt=\"Open In Colab\"/></a>"
      ]
    },
    {
      "cell_type": "markdown",
      "source": [
        "# Einstein SR and Maxwell\n",
        "> \"Einstein SR, Homogeneous Wave Equation, Lorentz Group, Maxwell. \"\n",
        "\n",
        "- toc: false\n",
        "- branch: master\n",
        "- badges: false\n",
        "- comments: true\n",
        "- author: JHM\n",
        "- categories: [einstein, maxwell, wave equation, lorentz, SR]\n"
      ],
      "metadata": {
        "id": "rc2iYgrs_FXH"
      }
    },
    {
      "cell_type": "markdown",
      "source": [
        "# Einstein SR and Maxwell\n",
        "\n",
        "The history of special relativity (SR) arose out of Einstein's study (1900+) of Maxwell equations (1870).But what is the logical and mathematical relation between SR and Maxwell? \n",
        "\n",
        "Briefly, by Maxwell equations we understand that in a given reference frame $K$ we have the existence of electric and magnetic fields $E,B$ satisfying [equations]. What are $E,B$? [insert]\n",
        "\n",
        "Composing the first-order Maxwell equations yields the second-order fact that the coordinate components of $E,B$ satisfy wave equations with speed of propagation $c=\\sqrt{\\epsilon_0 \\mu_0}$. This usually leads to the idea that electromagnetic field disturbances travel at the speed of $c$ in ether. And indeed Maxwell equations expressly assume an aether, or the medium by the which the wave energy travels.\n",
        "\n",
        "The null result of the Michelson-Morley experiments led to Einstein's postulating the Lorentz transformations relating space and time variables $x,t$.  \n",
        "\n",
        "The classical homogeneous wave equation has the property of the velocity being *dependant* on the receiver velocity relative to the medium. But SR argues that the assumption (A12) on the \"rectilinear uniform propagation of light\" somehow yields a wave equation where velocity is receiver *independant*. But how? \n",
        "\n"
      ],
      "metadata": {
        "id": "6DeaSfLzdWjl"
      }
    },
    {
      "cell_type": "markdown",
      "source": [
        "So what have we shown? That the Minkowski line element $ds^2$ is dual to d'Alembert $\\square$, and if light is assumed to propagate according to $ds^2=0$, then [incomplete].\n",
        "\n",
        "For example, the quadratic form representing $ds^2$ satisfies $\\square h=0$ where $h=-c^2t^2+\\frac{1}{3}(x^2+y^2+z^2)$. \n",
        "\n",
        "Now Einstein's (A12) postulates the *uniform rectilinear* propagation of light in vacuum. This would suggest a corpuscular model of light, being represented as affine parameterized lines $$s\\mapsto (s, x(s), y(s), z(s))=(s, \\gamma(s)) $$ in ${\\bf{R}}^{3,1}$ satisfying $D^2_{ss} \\gamma =0$. \n",
        "\n",
        "Is the equation $D^2_{ss} \\gamma=0$ Lorentz covariant? (Yes?) \n",
        "\n",
        "But what are the corresponding \"*uniform rectilinear*\" solutions $\\phi$ for the dual HWE: $~~\\square \\phi=0$ ? This would be a Lorentz invariant class of solutions $\\{\\phi\\}$ of the HWE which have [incomplete: some uniform and rectilinear characteristics]. \n",
        "\n",
        "Compare https://ccrma.stanford.edu/~jos/pasp/Spherical_Waves_Point_Source.html\n"
      ],
      "metadata": {
        "id": "1sfrivMFQJWB"
      }
    },
    {
      "cell_type": "markdown",
      "source": [
        "Concluding idea: there has always been correspondance between lines in $V$ (one-dimensional linear subspaces) and quadratic functionals via the Segre embedding, or $\\lambda \\mapsto \\lambda^2$ where $\\lambda\\in V^*$ is a linear functional. \n",
        "\n",
        "The following questions will be answered below:\n",
        "\n",
        "* Are the quadratic functions $q(x)=h(v,x)^2/2$ solutions to $\\square =0$ for null vector $v\\in N$?\n",
        "\n",
        "* Can we find quadratic functions $q$ whose level sets are everywhere orthogonal to the null cone $N$ ? \n",
        "\n",
        "The idea would be to derive some canonical solutions $\\square q=0$ from quadratics arising from vectors on the null cone.\n",
        "\n",
        "\n",
        "If $v$ belongs to null cone, then $q(x):=h(v,x)^2/2$ for $x\\in V$ defines a quadratic function on $V$ with $q(v)=h(v,v)^2=0$. It's clear that $q$ is minimized along $v^\\perp$, and that $v\\in v^\\perp$. Moreover the differential of $q(x)=q(t,x)$ satisfies $dq|_x=h(v,x)v$. \n",
        "\n",
        "\n",
        "Lemma. For every vector $v\\in {\\bf{R}}^{3,1}$, let $q(x):=h(v,x)^2/2$ be the quadratic form defined by $v$. Then $\\square q=0$ if and only if $v \\in N$ and  $h(v,v)=0$. \n",
        "\n",
        "Proof. We claim that $\\square q=h(v,v)$ when $q(u)=h(v,u)^2/2$.\n",
        "\n",
        "If the vector $v$ has coordinates $v=[v_t, v_x, v_y, v_z]$, then $h(v,x)^2$ is equal to $$(-v_t t + v_xx+ v_yy+ v_zz)^2,$$  which is equal to $$v_t^2 t^2 +v_x^2 x^2 + v_y^2 y^2 + v_z^2 z^2 + (mixed~ terms).$$\n",
        "Therefore applying d'Alembert's operator we find $$\\square q =2( -v_t^2+v_x^2 + v_y^2 + v_z^2), $$ since $\\square(mixed~~terms)=0$ and the claim follows. \n",
        "\n",
        "\n"
      ],
      "metadata": {
        "id": "gIfECdy-Yarz"
      }
    },
    {
      "cell_type": "markdown",
      "source": [
        "# Levi-Civita and Einstein's Geometric Optics\n",
        "\n",
        "In Levi-Civita's \"Absolute Differential Calculus\", Einstein's applications of SR to geometric optics (theory of light propagation) is summarized in two equations.\n",
        "\n",
        "First we have $$ds^2=0$$ and $$\\delta \\int ds=0.$$\n",
        "\n",
        "Here $$ds^2=-c^2 dt^2 + dx^2+dy^2+dz^2$$ is the Lorentzian quadratic form.  The Lorentz invariance of $ds^2$ implies the null cone $ds=0$ is Lorentz invariant. \n",
        "\n",
        "In the second equation $\\delta$ is the *variational derivative* of the functional $\\gamma \\mapsto \\int_\\gamma ds$, and the equation is an expression in the *calculus of variations* similar to Hamilton's principle and Fermat's least time principle. There is a difficulty in reconciling the above equations because the line element $ds$ vanishes identically on the null cone, and therefore the functional $\\gamma \\mapsto \\int_\\gamma ds$ is identically zero on curves $\\gamma$ which are everywhere tangent to the null cone. This difficulty is admitted in Levi-Civita's textbook. More important today is the Lorentz invariance of $ds^2$. \n",
        "\n",
        "# Lorentz Group Actions\n",
        "\n",
        "Undoubtedly the theory of SR is summarized in the representations of the Lorentz group of linear transformations, namely the isometry group designated $O(ds^2)=O(3,1)$ and its standard linear action on ${\\bf{R}}^{3,1}$. \n",
        "\n",
        "For the mathematician, once a single linear representation is given, there are many algebraic constructions possible to obtain further representations, for example the symmetric and alternating representations. We develop this idea further to try and bridge the assumptions of SR to Maxwell's equations, and especially the wave equation.\n",
        "\n",
        "Now we discuss several group representations (i.e. linear group actions).\n",
        "\n",
        "First we begin with the standard linear representation $$\\rho_0:{\\bf{R}}^{1,3} \\times L \\to {\\bf{R}}^{1,3}$$ which is the linear representation $\\rho_0$ represented by left matrix multiplication $(v, \\lambda) \\mapsto \\lambda.v$.\n",
        "\n",
        "Next we *dualize*. \n",
        "\n",
        "Let $C({\\bf{R}}^{3,1})$ be the space of polynomial functions on the space. Abbreviate $C:=C({\\bf{R}}^{3,1})$.  Naturally we assemble $C$ from the dual functionals $\\lambda\\in {({\\bf{R}}^{3,1})}^*$. Taking products and polynomials in the dual functions $\\lambda$ we obtain the contragradient represention $$\\rho_0^*:C( {\\bf{R}}^{3,1}) \\times L \\to C({\\bf{R}}^{3,1}). $$ \n",
        "\n",
        "The idea is that the vector spaces $V$ and $V^*$ are isomorphic (non canonically) in finite dimensions. Moreover the algebra generated by $V^*$ yields an (infinite-dimensional) space of polynomial functions on $V$. \n",
        "\n",
        "Now what are vector fields? \n",
        "\n",
        "In differential topology, the vector fields $\\frac{\\partial }{\\partial x}$ *act* on functions as a derivation, i.e. as linear maps $$\\frac{\\partial }{\\partial x}: C \\to C $$ satisfying Liebniz product formula. Iterating the derivations $\\frac{\\partial }{\\partial x}\\circ \\frac{\\partial }{\\partial y}=\\frac{\\partial^2 }{\\partial x \\partial y}$ leads to the usual differential operators, etc..  \n",
        "\n",
        "Consider the d'Alembert operator $$\\square:= \\frac{-1}{c^2} \\frac{\\partial^2}{\\partial t^2} +\\frac{\\partial^2}{\\partial x^2}+\\frac{\\partial^2}{\\partial y^2}+\\frac{\\partial^2}{\\partial z^2}  .$$\n",
        "\n",
        "Now our main proposal is that the Minkowski squared line element $ds^2$ is *dual* in a linear algebraic sense to the d'Alembert operator $\\square$. \n",
        "\n",
        "The Lorentz invariance of $\\square$ shows the solutions to the homogeneous wave equation (HWE) are Lorentz covariant and $\\square \\phi =0$ if and only if $\\square \\lambda \\cdot \\phi =0$ for every Lorentz transformation $\\lambda \\in L$. The corresponding fact for $ds^2$ is that the null cone $ds^2=0$ is Lorentz covariant. \n",
        "\n",
        "\n",
        "\n",
        "\n",
        "\n"
      ],
      "metadata": {
        "id": "w0qocVfXcohJ"
      }
    },
    {
      "cell_type": "code",
      "source": [
        "#hide\n",
        "\n",
        "from sympy import *\n",
        "\n",
        "t=symbols('t')\n",
        "x=symbols('x')\n",
        "y=symbols('y')\n",
        "\n",
        "expand((-t+x/2+y/2)**2)\n"
      ],
      "metadata": {
        "id": "BODZ6z_jhqBk"
      },
      "execution_count": null,
      "outputs": []
    },
    {
      "cell_type": "markdown",
      "source": [
        "#"
      ],
      "metadata": {
        "id": "CtWL_AmJd9QW"
      }
    }
  ]
}